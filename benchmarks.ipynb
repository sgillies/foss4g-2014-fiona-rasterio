{
 "metadata": {
  "name": "",
  "signature": "sha256:76b516ef1fb318bcbdfa150e7bd0b4e66248c3d073c11671bb3436613d52c49d"
 },
 "nbformat": 3,
 "nbformat_minor": 0,
 "worksheets": [
  {
   "cells": [
    {
     "cell_type": "code",
     "collapsed": false,
     "input": [
      "import timeit\n",
      "\n",
      "t = timeit.Timer(\"\"\"\n",
      "from osgeo import ogr\n",
      "# Create ring\n",
      "ring = ogr.Geometry(ogr.wkbLinearRing)\n",
      "ring.AddPoint(1179091.1646903288, 712782.8838459781)\n",
      "ring.AddPoint(1161053.0218226474, 667456.2684348812)\n",
      "ring.AddPoint(1214704.933941905, 641092.8288590391)\n",
      "ring.AddPoint(1228580.428455506, 682719.3123998424)\n",
      "ring.AddPoint(1218405.0658121984, 721108.1805541387)\n",
      "ring.AddPoint(1179091.1646903288, 712782.8838459781)\n",
      "\n",
      "# Create polygon\n",
      "poly = ogr.Geometry(ogr.wkbPolygon)\n",
      "poly.AddGeometry(ring)\n",
      "\"\"\")\n",
      "\n",
      "1e+6 * t.timeit(number=1000)/1000"
     ],
     "language": "python",
     "metadata": {},
     "outputs": [
      {
       "metadata": {},
       "output_type": "pyout",
       "prompt_number": 12,
       "text": [
        "30.59220314025879"
       ]
      }
     ],
     "prompt_number": 12
    },
    {
     "cell_type": "code",
     "collapsed": false,
     "input": [
      "t = timeit.Timer(\"\"\"\n",
      "data = {\n",
      "    'type': 'Polygon',\n",
      "    'coordinates': [[\n",
      "        (1179091.1646903288, 712782.8838459781),\n",
      "        (1161053.0218226474, 667456.2684348812),\n",
      "        (1214704.933941905, 641092.8288590391),\n",
      "        (1228580.428455506, 682719.3123998424),\n",
      "        (1218405.0658121984, 721108.1805541387),\n",
      "        (1179091.1646903288, 712782.8838459781) ]]}\n",
      "\"\"\")\n",
      "\n",
      "1e+6 * t.timeit(number=1000)/1000"
     ],
     "language": "python",
     "metadata": {},
     "outputs": [
      {
       "metadata": {},
       "output_type": "pyout",
       "prompt_number": 14,
       "text": [
        "0.8149147033691406"
       ]
      }
     ],
     "prompt_number": 14
    },
    {
     "cell_type": "code",
     "collapsed": false,
     "input": [
      "t = timeit.Timer(\"\"\"\n",
      "from shapely.geometry import shape\n",
      "data = {\n",
      "    'type': 'Polygon',\n",
      "    'coordinates': [[\n",
      "        (1179091.1646903288, 712782.8838459781),\n",
      "        (1161053.0218226474, 667456.2684348812),\n",
      "        (1214704.933941905, 641092.8288590391),\n",
      "        (1228580.428455506, 682719.3123998424),\n",
      "        (1218405.0658121984, 721108.1805541387),\n",
      "        (1179091.1646903288, 712782.8838459781) ]]}\n",
      "poly = shape(data)\n",
      "\"\"\")\n",
      "\n",
      "1e+6 * t.timeit(number=1000)/1000"
     ],
     "language": "python",
     "metadata": {},
     "outputs": [
      {
       "metadata": {},
       "output_type": "pyout",
       "prompt_number": 15,
       "text": [
        "45.55392265319824"
       ]
      }
     ],
     "prompt_number": 15
    },
    {
     "cell_type": "code",
     "collapsed": false,
     "input": [],
     "language": "python",
     "metadata": {},
     "outputs": []
    }
   ],
   "metadata": {}
  }
 ]
}